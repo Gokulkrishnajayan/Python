{
  "nbformat": 4,
  "nbformat_minor": 0,
  "metadata": {
    "colab": {
      "provenance": [],
      "name": "print_gokuldragon.py",
      "authorship_tag": "ABX9TyPmLbFnYUcNxh3+g7MEcpgY"
    },
    "kernelspec": {
      "name": "python3",
      "display_name": "Python 3"
    },
    "language_info": {
      "name": "python"
    }
  },
  "cells": [
    {
      "cell_type": "code",
      "source": [
        "print(\"gokul Dragon\")\n",
        "\n",
        "\n"
      ],
      "metadata": {
        "colab": {
          "base_uri": "https://localhost:8080/"
        },
        "id": "QH9LpPoCtaQ3",
        "outputId": "7054db9c-bc9b-4da8-e075-5507b4dcc0f5"
      },
      "execution_count": 2,
      "outputs": [
        {
          "output_type": "stream",
          "name": "stdout",
          "text": [
            "gokul\n"
          ]
        }
      ]
    }
  ]
}